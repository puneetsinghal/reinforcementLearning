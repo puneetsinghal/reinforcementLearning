{
 "cells": [
  {
   "cell_type": "code",
   "execution_count": null,
   "metadata": {},
   "outputs": [],
   "source": [
    "import gym\n",
    "import numpy as np\n",
    "import math"
   ]
  },
  {
   "cell_type": "code",
   "execution_count": null,
   "metadata": {
    "collapsed": true
   },
   "outputs": [],
   "source": [
    "def statesIndex2states(stateIndex, numStates):\n",
    "    stateY = int(stateIndex/numStates)\n",
    "    stateX = int(stateIndex%numStates)\n",
    "    return stateX, stateY\n",
    "\n",
    "def testCaseGenerator(q, rendering=False, epsilon=0):\n",
    "    obs = FL.reset()\n",
    "    totalReward = 0\n",
    "    \n",
    "    while True:\n",
    "        # find optimal action based on E-greedy policy\n",
    "        # If epsilon is equal to 0, the policy is essentially argmax(q) over actions\n",
    "        qMax = np.amax(q[obs])\n",
    "        greedyActions = q[obs] == qMax\n",
    "        numGreedyActions = np.sum(greedyActions)\n",
    "        policy = epsilon/4*np.ones((4,))\n",
    "        policy[greedyActions] = (1-epsilon)/numGreedyActions + epsilon/4\n",
    "        action = np.random.choice(4,1,p=policy.tolist())\n",
    "        action= action[0]\n",
    "        \n",
    "        # Take action and generate next states and reward\n",
    "        obs, reward, done, _ = FL.step(action)\n",
    "        \n",
    "        if rendering:\n",
    "            FL.render()\n",
    "        totalReward += reward  \n",
    "        if done:\n",
    "            break \n",
    "    print(\"Total reward:  \", totalReward)\n",
    "    return totalReward"
   ]
  },
  {
   "cell_type": "code",
   "execution_count": null,
   "metadata": {},
   "outputs": [],
   "source": [
    "# Initialization\n",
    "\n",
    "FL = gym.make('FrozenLake-v0') # OpenAI environment\n",
    "\n",
    "numStates = FL.observation_space.n\n",
    "numActions = FL.action_space.n\n",
    "\n",
    "q = np.zeros((numStates, numActions)) # action values initialization\n",
    "alpha = 0.5 #Learning Rate\n",
    "gamma = 1 #Discount Factor\n",
    "\n",
    "obs = FL.reset()\n",
    "numIterations = 10000\n",
    "epsilon = 1 # exploration\n",
    "\n",
    "totalReward = np.zeros((100,))\n",
    "for i in range(0, numIterations):\n",
    "    rewardLastEpisode = 0\n",
    "    # Generate Episode\n",
    "    while True:\n",
    "        qMax = np.amax(q[obs])\n",
    "        greedyActions = q[obs] == qMax\n",
    "        numGreedyActions = np.sum(greedyActions)\n",
    "        policy = epsilon/4*np.ones((4,))\n",
    "        policy[greedyActions] = (1-epsilon)/numGreedyActions + epsilon/4\n",
    "        action = np.random.choice(4,1,p=policy.tolist())\n",
    "        action = action[0]\n",
    "        obsNext, reward, done, _ = FL.step(action)\n",
    "        q[obs][action] = q[obs][action] + alpha*(reward + gamma*np.amax(q[obsNext]) - q[obs][action])\n",
    "        rewardLastEpisode += reward\n",
    "        if done:\n",
    "            break\n",
    "        obs = obsNext\n",
    "        \n",
    "    # Reward over last 100 episodes. Determine the % efficiency of learning\n",
    "    totalReward = np.append(totalReward[1:100,], rewardLastEpisode)\n",
    "    \n",
    "    # Reset environment\n",
    "    obs = FL.reset()\n",
    "    print(\"Reward over last 100 episodes:  \", np.sum(totalReward))\n",
    "    \n",
    "    # update epsilon (exploration factor)\n",
    "    epsilon = math.exp(-i/100)\n",
    "\n",
    "np.savetxt('actionValueFunction.txt',q)\n",
    "print(\"Reward over last 100 episodes:  \", np.sum(totalReward))\n",
    "testCaseGenerator(q, rendering = True)"
   ]
  }
 ],
 "metadata": {
  "kernelspec": {
   "display_name": "rl",
   "language": "python",
   "name": "rl"
  },
  "language_info": {
   "codemirror_mode": {
    "name": "ipython",
    "version": 3
   },
   "file_extension": ".py",
   "mimetype": "text/x-python",
   "name": "python",
   "nbconvert_exporter": "python",
   "pygments_lexer": "ipython3",
   "version": "3.5.2"
  }
 },
 "nbformat": 4,
 "nbformat_minor": 2
}
